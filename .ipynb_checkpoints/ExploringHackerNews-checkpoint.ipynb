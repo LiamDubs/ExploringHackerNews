{
 "cells": [
  {
   "cell_type": "markdown",
   "metadata": {},
   "source": [
    "# Exploring Hacker News Posts\n",
    "\n",
    "This project will focus on analyzing the data set focused on submissions to a popular technology site Hacker News. \n",
    "\n",
    "We are interested in posts whose titles begin with either Ask HN or Show HN. We'll compare these two types of posts to determine:\n",
    "1. Which one receives more comments on average\n",
    "2. Do posts created at a specific time receive more comments on average."
   ]
  },
  {
   "cell_type": "markdown",
   "metadata": {},
   "source": [
    "We will be working with the data set from Kaggle called hacker_news.csv. \n",
    "It has post from previous 12 months (September 2015 to September 2016). \n",
    "\n",
    "## Part 1\n",
    "\n",
    "Firstly, let's start by importing the modules and opening the csv file:"
   ]
  },
  {
   "cell_type": "code",
   "execution_count": 1,
   "metadata": {},
   "outputs": [],
   "source": [
    "# Import csv module and open the csv file\n",
    "from csv import reader\n",
    "opened_file = open('hacker_news.csv', encoding='utf8')\n",
    "read_file=reader(opened_file)\n",
    "hn=list(read_file)\n",
    "\n",
    "# Separate the header row from rest of the data set\n",
    "headers=hn[0]\n",
    "hn=hn[1:]"
   ]
  },
  {
   "cell_type": "markdown",
   "metadata": {},
   "source": [
    "Let's look at header of the data set:"
   ]
  },
  {
   "cell_type": "code",
   "execution_count": 2,
   "metadata": {},
   "outputs": [
    {
     "data": {
      "text/plain": [
       "['id', 'title', 'url', 'num_points', 'num_comments', 'author', 'created_at']"
      ]
     },
     "execution_count": 2,
     "metadata": {},
     "output_type": "execute_result"
    }
   ],
   "source": [
    "headers"
   ]
  },
  {
   "cell_type": "markdown",
   "metadata": {},
   "source": [
    "There are seven columns:\n",
    "1. id: The unique identifier from Hacker News for the post\n",
    "2. title: The title of the post\n",
    "3. url: The URL that the posts links to, if the post has a URL\n",
    "4. num_points: The number of points the post acquired, calculated as the total \n",
    "5. num_comments: The number of comments that were made on the post\n",
    "6. author: The username of the person who submitted the post\n",
    "7. created_at: The date and time at which the post was submitted"
   ]
  },
  {
   "cell_type": "markdown",
   "metadata": {},
   "source": [
    "Let's explore first few rows of the data set:"
   ]
  },
  {
   "cell_type": "code",
   "execution_count": 3,
   "metadata": {},
   "outputs": [
    {
     "data": {
      "text/plain": [
       "[['12224879',\n",
       "  'Interactive Dynamic Video',\n",
       "  'http://www.interactivedynamicvideo.com/',\n",
       "  '386',\n",
       "  '52',\n",
       "  'ne0phyte',\n",
       "  '8/4/2016 11:52'],\n",
       " ['10975351',\n",
       "  'How to Use Open Source and Shut the Fuck Up at the Same Time',\n",
       "  'http://hueniverse.com/2016/01/26/how-to-use-open-source-and-shut-the-fuck-up-at-the-same-time/',\n",
       "  '39',\n",
       "  '10',\n",
       "  'josep2',\n",
       "  '1/26/2016 19:30'],\n",
       " ['11964716',\n",
       "  \"Florida DJs May Face Felony for April Fools' Water Joke\",\n",
       "  'http://www.thewire.com/entertainment/2013/04/florida-djs-april-fools-water-joke/63798/',\n",
       "  '2',\n",
       "  '1',\n",
       "  'vezycash',\n",
       "  '6/23/2016 22:20']]"
      ]
     },
     "execution_count": 3,
     "metadata": {},
     "output_type": "execute_result"
    }
   ],
   "source": [
    "hn[0:3]"
   ]
  },
  {
   "cell_type": "code",
   "execution_count": 4,
   "metadata": {},
   "outputs": [
    {
     "data": {
      "text/plain": [
       "20100"
      ]
     },
     "execution_count": 4,
     "metadata": {},
     "output_type": "execute_result"
    }
   ],
   "source": [
    "len(hn)"
   ]
  },
  {
   "cell_type": "markdown",
   "metadata": {},
   "source": [
    "We can see that this data set contains over 20,000 posts. Since we are interested in posts that start with Ask HN and Show HN, we would like to devide this data set into three separate lists. \n",
    "\n",
    "To do this, we'll loop through entire data set and filter using string method `string.startswith()` \n",
    "\n",
    "In our loop, we'll separete posts into three lists: `ask_posts`, `show_posts`, and `other_posts`. "
   ]
  },
  {
   "cell_type": "code",
   "execution_count": 5,
   "metadata": {},
   "outputs": [],
   "source": [
    "# Create empty lists\n",
    "ask_posts=[]\n",
    "show_posts=[]\n",
    "other_posts=[]\n",
    "\n",
    "for row in hn:\n",
    "    title=row[1]\n",
    "    title=title.lower()  #convert test to lower case to eliminate errors\n",
    "    if title.startswith('ask hn'):\n",
    "        ask_posts.append(row)\n",
    "    elif title.startswith('show hn'):\n",
    "        show_posts.append(row)\n",
    "    else:\n",
    "        other_posts.append(row)\n"
   ]
  },
  {
   "cell_type": "markdown",
   "metadata": {},
   "source": [
    "Let's see if this worked corectly by exploring few rows from each new list:"
   ]
  },
  {
   "cell_type": "code",
   "execution_count": 6,
   "metadata": {},
   "outputs": [
    {
     "name": "stdout",
     "output_type": "stream",
     "text": [
      "[['12296411', 'Ask HN: How to improve my personal website?', '', '2', '6', 'ahmedbaracat', '8/16/2016 9:55'], ['10610020', 'Ask HN: Am I the only one outraged by Twitter shutting down share counts?', '', '28', '29', 'tkfx', '11/22/2015 13:43']]\n",
      "\n",
      "\n",
      "[['10627194', 'Show HN: Wio Link  ESP8266 Based Web of Things Hardware Development Platform', 'https://iot.seeed.cc', '26', '22', 'kfihihc', '11/25/2015 14:03'], ['10646440', 'Show HN: Something pointless I made', 'http://dn.ht/picklecat/', '747', '102', 'dhotson', '11/29/2015 22:46']]\n",
      "\n",
      "\n",
      "[['12224879', 'Interactive Dynamic Video', 'http://www.interactivedynamicvideo.com/', '386', '52', 'ne0phyte', '8/4/2016 11:52'], ['10975351', 'How to Use Open Source and Shut the Fuck Up at the Same Time', 'http://hueniverse.com/2016/01/26/how-to-use-open-source-and-shut-the-fuck-up-at-the-same-time/', '39', '10', 'josep2', '1/26/2016 19:30']]\n"
     ]
    }
   ],
   "source": [
    "print(ask_posts[:2])\n",
    "print('\\n')\n",
    "print(show_posts[:2])\n",
    "print('\\n')\n",
    "print(other_posts[:2])"
   ]
  },
  {
   "cell_type": "markdown",
   "metadata": {},
   "source": [
    "Everything was filtered correctly. Now let's check the number of posts in each list:"
   ]
  },
  {
   "cell_type": "code",
   "execution_count": 7,
   "metadata": {},
   "outputs": [
    {
     "name": "stdout",
     "output_type": "stream",
     "text": [
      "1744\n",
      "\n",
      "\n",
      "1162\n",
      "\n",
      "\n",
      "17194\n"
     ]
    }
   ],
   "source": [
    "print(len(ask_posts))\n",
    "print('\\n')\n",
    "print(len(show_posts))\n",
    "print('\\n')\n",
    "print(len(other_posts))"
   ]
  },
  {
   "cell_type": "markdown",
   "metadata": {},
   "source": [
    "There are substantially more 'other' posts than Ask HN and Show HN posts. \n",
    "\n",
    "A good step forward will be to check the difference between total amount of comments for Ask HN vs Show HN posts. Let's assign total amount of comments for Ask HN post to an integer `total_ask_posts` while Show HN posts to `total_show_posts`"
   ]
  },
  {
   "cell_type": "code",
   "execution_count": 8,
   "metadata": {},
   "outputs": [
    {
     "name": "stdout",
     "output_type": "stream",
     "text": [
      "Average number of comments on Show posts is 10.32\n",
      "Average number of comments on Ask posts is 14.04\n"
     ]
    }
   ],
   "source": [
    "#Code to calculate average amount of comments for Ask HN posts\n",
    "total_ask_posts=0\n",
    "avg_ask_posts=0\n",
    "\n",
    "\n",
    "for row in ask_posts:\n",
    "    n_com=int(row[4])\n",
    "    total_ask_posts+=n_com\n",
    "avg_ask_posts=total_ask_posts/len(ask_posts)\n",
    "\n",
    "#Code to calculate average amount of comments for Show HN posts\n",
    "total_show_posts=0\n",
    "avg_show_posts=0\n",
    "\n",
    "for row in show_posts:\n",
    "    n_com=int(row[4])\n",
    "    total_show_posts+=n_com\n",
    "avg_show_posts=total_show_posts/len(show_posts)\n",
    "\n",
    "print('Average number of comments on Show posts is {:.2f}'.format(avg_show_posts))\n",
    "print('Average number of comments on Ask posts is {:.2f}'.format(avg_ask_posts))\n"
   ]
  },
  {
   "cell_type": "markdown",
   "metadata": {},
   "source": [
    "We can clearly see that Ask posts on average generate higher amount of comments comparing to Show posts. This makes sense because by definition Ask posts 'ask' other users for an answer to a question. On the other side, Show posts don't ask other users for responce - they are strictly to display some information. "
   ]
  },
  {
   "cell_type": "markdown",
   "metadata": {},
   "source": [
    "## Part 2\n",
    "\n",
    "Let's concentrate our focus on Ask HN posts. We would like to determine if there is a corelationship between what time a post was posted and amount of comments received. \n",
    "\n",
    "Because we will be working with time, we first need to import datetime module. We will then create a new list that will hold two columns: time of day(hour) and number of comments:"
   ]
  },
  {
   "cell_type": "code",
   "execution_count": 9,
   "metadata": {},
   "outputs": [],
   "source": [
    "# Import datetime module and create empty list\n",
    "import datetime as dt\n",
    "\n",
    "result_list=[]\n",
    "date_format='%m/%d/%Y %H:%M'\n",
    "\n",
    "for row in ask_posts:\n",
    "    created_at=row[6]\n",
    "#     line below first uses strptime to format string into datetime format\n",
    "#     and then uses strftime to select hour only.\n",
    "    created_at=dt.datetime.strptime(created_at, date_format).strftime(\"%H\")\n",
    "    n_com=int(row[4])\n",
    "    result_list.append([created_at, n_com])\n"
   ]
  },
  {
   "cell_type": "markdown",
   "metadata": {},
   "source": [
    "By looking at first few elements from the new table, we can see that this worked well:"
   ]
  },
  {
   "cell_type": "code",
   "execution_count": 10,
   "metadata": {},
   "outputs": [
    {
     "data": {
      "text/plain": [
       "[['09', 6], ['13', 29], ['10', 1], ['14', 3], ['16', 17]]"
      ]
     },
     "execution_count": 10,
     "metadata": {},
     "output_type": "execute_result"
    }
   ],
   "source": [
    "result_list[0:5]"
   ]
  },
  {
   "cell_type": "markdown",
   "metadata": {},
   "source": [
    "Now let's created a frequency table that will have a distribution of hours and number of comments at that hour:"
   ]
  },
  {
   "cell_type": "code",
   "execution_count": 11,
   "metadata": {},
   "outputs": [],
   "source": [
    "counts_by_hour={}\n",
    "comments_by_hour={}\n",
    "\n",
    "for row in result_list:\n",
    "    n_hour=row[0]\n",
    "    n_com=int(row[1])\n",
    "    if n_hour in counts_by_hour:\n",
    "        counts_by_hour[n_hour]+=1\n",
    "        comments_by_hour[n_hour]+=n_com\n",
    "    else:\n",
    "        counts_by_hour[n_hour]=1\n",
    "        comments_by_hour[n_hour]=n_com\n",
    "    \n",
    "    "
   ]
  },
  {
   "cell_type": "code",
   "execution_count": 12,
   "metadata": {},
   "outputs": [
    {
     "data": {
      "text/plain": [
       "{'09': 45,\n",
       " '13': 85,\n",
       " '10': 59,\n",
       " '14': 107,\n",
       " '16': 108,\n",
       " '23': 68,\n",
       " '12': 73,\n",
       " '17': 100,\n",
       " '15': 116,\n",
       " '21': 109,\n",
       " '20': 80,\n",
       " '02': 58,\n",
       " '18': 109,\n",
       " '03': 54,\n",
       " '05': 46,\n",
       " '19': 110,\n",
       " '01': 60,\n",
       " '22': 71,\n",
       " '08': 48,\n",
       " '04': 47,\n",
       " '00': 55,\n",
       " '06': 44,\n",
       " '07': 34,\n",
       " '11': 58}"
      ]
     },
     "execution_count": 12,
     "metadata": {},
     "output_type": "execute_result"
    }
   ],
   "source": [
    "comments_by_hour\n",
    "counts_by_hour"
   ]
  },
  {
   "cell_type": "markdown",
   "metadata": {},
   "source": [
    "Now, let's find the average number of comments these posts received:\n"
   ]
  },
  {
   "cell_type": "code",
   "execution_count": 13,
   "metadata": {},
   "outputs": [],
   "source": [
    "avg_by_hour=[]\n",
    "for hour in comments_by_hour:\n",
    "    avg_by_hour.append([hour, comments_by_hour[hour]/counts_by_hour[hour]])"
   ]
  },
  {
   "cell_type": "code",
   "execution_count": 14,
   "metadata": {},
   "outputs": [
    {
     "data": {
      "text/plain": [
       "[['09', 5.5777777777777775],\n",
       " ['13', 14.741176470588234],\n",
       " ['10', 13.440677966101696],\n",
       " ['14', 13.233644859813085],\n",
       " ['16', 16.796296296296298],\n",
       " ['23', 7.985294117647059],\n",
       " ['12', 9.41095890410959],\n",
       " ['17', 11.46],\n",
       " ['15', 38.5948275862069],\n",
       " ['21', 16.009174311926607],\n",
       " ['20', 21.525],\n",
       " ['02', 23.810344827586206],\n",
       " ['18', 13.20183486238532],\n",
       " ['03', 7.796296296296297],\n",
       " ['05', 10.08695652173913],\n",
       " ['19', 10.8],\n",
       " ['01', 11.383333333333333],\n",
       " ['22', 6.746478873239437],\n",
       " ['08', 10.25],\n",
       " ['04', 7.170212765957447],\n",
       " ['00', 8.127272727272727],\n",
       " ['06', 9.022727272727273],\n",
       " ['07', 7.852941176470588],\n",
       " ['11', 11.051724137931034]]"
      ]
     },
     "execution_count": 14,
     "metadata": {},
     "output_type": "execute_result"
    }
   ],
   "source": [
    "avg_by_hour"
   ]
  },
  {
   "cell_type": "markdown",
   "metadata": {},
   "source": [
    "Even though we now have the information that we were looking for, this format is difficult to read. Let's try to sort this list and make it easier to read:"
   ]
  },
  {
   "cell_type": "code",
   "execution_count": 15,
   "metadata": {},
   "outputs": [
    {
     "data": {
      "text/plain": [
       "[[5.5777777777777775, '09'],\n",
       " [14.741176470588234, '13'],\n",
       " [13.440677966101696, '10'],\n",
       " [13.233644859813085, '14'],\n",
       " [16.796296296296298, '16'],\n",
       " [7.985294117647059, '23'],\n",
       " [9.41095890410959, '12'],\n",
       " [11.46, '17'],\n",
       " [38.5948275862069, '15'],\n",
       " [16.009174311926607, '21'],\n",
       " [21.525, '20'],\n",
       " [23.810344827586206, '02'],\n",
       " [13.20183486238532, '18'],\n",
       " [7.796296296296297, '03'],\n",
       " [10.08695652173913, '05'],\n",
       " [10.8, '19'],\n",
       " [11.383333333333333, '01'],\n",
       " [6.746478873239437, '22'],\n",
       " [10.25, '08'],\n",
       " [7.170212765957447, '04'],\n",
       " [8.127272727272727, '00'],\n",
       " [9.022727272727273, '06'],\n",
       " [7.852941176470588, '07'],\n",
       " [11.051724137931034, '11']]"
      ]
     },
     "execution_count": 15,
     "metadata": {},
     "output_type": "execute_result"
    }
   ],
   "source": [
    "swap_avg_by_hour=[]\n",
    "for hr in avg_by_hour:\n",
    "    swap_avg_by_hour.append([hr[1],hr[0]])\n",
    "swap_avg_by_hour"
   ]
  },
  {
   "cell_type": "code",
   "execution_count": 16,
   "metadata": {},
   "outputs": [],
   "source": [
    "# swap columns for easier interpretation\n",
    "sorted_swap=sorted(swap_avg_by_hour,reverse=True)"
   ]
  },
  {
   "cell_type": "code",
   "execution_count": 17,
   "metadata": {},
   "outputs": [
    {
     "name": "stdout",
     "output_type": "stream",
     "text": [
      "15:00: 38.59 average comments per post\n",
      "02:00: 23.81 average comments per post\n",
      "20:00: 21.52 average comments per post\n",
      "16:00: 16.80 average comments per post\n",
      "21:00: 16.01 average comments per post\n"
     ]
    }
   ],
   "source": [
    "# Print first five rows\n",
    "for each in sorted_swap[:5]:\n",
    "    print(\"{hr}:00: {avg:.2f} average comments per post\".format(hr=each[1], avg=each[0]))"
   ]
  },
  {
   "cell_type": "markdown",
   "metadata": {},
   "source": [
    "Based on the information above, we can conclude that the best time to create a post on HN is during the 3PM hour(Eastern Time) or 2PM hour Central Time. "
   ]
  },
  {
   "cell_type": "markdown",
   "metadata": {},
   "source": [
    "## Part 4\n",
    "\n",
    "Let's now focus on determining if show or ask posts receive more points on average"
   ]
  },
  {
   "cell_type": "code",
   "execution_count": 18,
   "metadata": {},
   "outputs": [
    {
     "name": "stdout",
     "output_type": "stream",
     "text": [
      "Average amount of points for Ask Posts is: 15.06\n",
      "Average amount of points for Show Posts is: 27.56\n"
     ]
    }
   ],
   "source": [
    "# Create a funtion that easily returns average points for a type of post\n",
    "\n",
    "def average_points(posts_type):\n",
    "    t_points=0\n",
    "    for row in posts_type:\n",
    "        n_points=int(row[3])\n",
    "        t_points+=n_points\n",
    "    avg_points=round(t_points/len(posts_type),2)\n",
    "    return avg_points\n",
    "\n",
    "print(\"Average amount of points for Ask Posts is: {}\".format(average_points(ask_posts)))\n",
    "print(\"Average amount of points for Show Posts is: {}\".format(average_points(show_posts)))\n"
   ]
  },
  {
   "cell_type": "markdown",
   "metadata": {},
   "source": [
    "Above we can see that oposite to Ask Posts, Show Posts generated higher amount of points. There reason behind this could be the fact that Show Posts usually have information that is interesting to the HN community. Because of this, other users reward this information by giving points to the poster. "
   ]
  },
  {
   "cell_type": "markdown",
   "metadata": {},
   "source": [
    "**Now let's determine if posts created at a certain time of day are more likely to receive more points. We'll focus on Show Posts since they have higher amount of points per post.**"
   ]
  },
  {
   "cell_type": "code",
   "execution_count": 19,
   "metadata": {},
   "outputs": [],
   "source": [
    "# Initiate our empty list and date format\n",
    "points_list=[]\n",
    "date_format='%m/%d/%Y %H:%M'\n",
    "\n",
    "for row in show_posts:\n",
    "    created_at=row[6]\n",
    "#     line below first uses strptime to format string into datetime format\n",
    "#     and then uses strftime to select hour only.\n",
    "    created_at=dt.datetime.strptime(created_at, date_format).strftime(\"%H\")\n",
    "    n_points=int(row[3])\n",
    "    points_list.append([created_at, n_points])\n",
    "    \n",
    "\n",
    "# Sort through the points_list and create two frequence tables\n",
    "points_by_hour={}\n",
    "comments_points_hour={}\n",
    "\n",
    "for row in points_list:\n",
    "    n_hour=row[0]\n",
    "    n_points=int(row[1])\n",
    "    if n_hour in points_by_hour:\n",
    "        points_by_hour[n_hour]+=1\n",
    "        comments_points_hour[n_hour]+=n_points\n",
    "    else:\n",
    "        points_by_hour[n_hour]=1\n",
    "        comments_points_hour[n_hour]=n_points"
   ]
  },
  {
   "cell_type": "code",
   "execution_count": 20,
   "metadata": {
    "scrolled": true
   },
   "outputs": [
    {
     "name": "stdout",
     "output_type": "stream",
     "text": [
      "{'14': 86, '22': 46, '18': 61, '07': 26, '20': 60, '05': 19, '16': 93, '19': 55, '15': 78, '03': 27, '17': 93, '06': 16, '02': 30, '13': 99, '08': 34, '21': 47, '04': 26, '11': 44, '12': 61, '23': 36, '09': 30, '01': 28, '10': 36, '00': 31}\n",
      "{'14': 2187, '22': 1856, '18': 2215, '07': 494, '20': 1819, '05': 104, '16': 2634, '19': 1702, '15': 2228, '03': 679, '17': 2521, '06': 375, '02': 340, '13': 2438, '08': 519, '21': 866, '04': 386, '11': 1480, '12': 2543, '23': 1526, '09': 553, '01': 700, '10': 681, '00': 1173}\n"
     ]
    }
   ],
   "source": [
    "print(points_by_hour)\n",
    "print(comments_points_hour)"
   ]
  },
  {
   "cell_type": "code",
   "execution_count": 21,
   "metadata": {},
   "outputs": [],
   "source": [
    "avg_points_by_hour=[]\n",
    "for hour in points_by_hour:\n",
    "    avg_points_by_hour.append([hour, comments_points_hour[hour]/points_by_hour[hour]])"
   ]
  },
  {
   "cell_type": "code",
   "execution_count": 22,
   "metadata": {},
   "outputs": [
    {
     "data": {
      "text/plain": [
       "[['14', 25.430232558139537],\n",
       " ['22', 40.34782608695652],\n",
       " ['18', 36.31147540983606],\n",
       " ['07', 19.0],\n",
       " ['20', 30.316666666666666],\n",
       " ['05', 5.473684210526316],\n",
       " ['16', 28.322580645161292],\n",
       " ['19', 30.945454545454545],\n",
       " ['15', 28.564102564102566],\n",
       " ['03', 25.14814814814815],\n",
       " ['17', 27.107526881720432],\n",
       " ['06', 23.4375],\n",
       " ['02', 11.333333333333334],\n",
       " ['13', 24.626262626262626],\n",
       " ['08', 15.264705882352942],\n",
       " ['21', 18.425531914893618],\n",
       " ['04', 14.846153846153847],\n",
       " ['11', 33.63636363636363],\n",
       " ['12', 41.68852459016394],\n",
       " ['23', 42.388888888888886],\n",
       " ['09', 18.433333333333334],\n",
       " ['01', 25.0],\n",
       " ['10', 18.916666666666668],\n",
       " ['00', 37.83870967741935]]"
      ]
     },
     "execution_count": 22,
     "metadata": {},
     "output_type": "execute_result"
    }
   ],
   "source": [
    "avg_points_by_hour"
   ]
  },
  {
   "cell_type": "markdown",
   "metadata": {},
   "source": [
    "**Let's clean this up to make it easier to analyze:**"
   ]
  },
  {
   "cell_type": "code",
   "execution_count": 23,
   "metadata": {
    "scrolled": true
   },
   "outputs": [
    {
     "data": {
      "text/plain": [
       "[[25.430232558139537, '14'],\n",
       " [40.34782608695652, '22'],\n",
       " [36.31147540983606, '18'],\n",
       " [19.0, '07'],\n",
       " [30.316666666666666, '20'],\n",
       " [5.473684210526316, '05'],\n",
       " [28.322580645161292, '16'],\n",
       " [30.945454545454545, '19'],\n",
       " [28.564102564102566, '15'],\n",
       " [25.14814814814815, '03'],\n",
       " [27.107526881720432, '17'],\n",
       " [23.4375, '06'],\n",
       " [11.333333333333334, '02'],\n",
       " [24.626262626262626, '13'],\n",
       " [15.264705882352942, '08'],\n",
       " [18.425531914893618, '21'],\n",
       " [14.846153846153847, '04'],\n",
       " [33.63636363636363, '11'],\n",
       " [41.68852459016394, '12'],\n",
       " [42.388888888888886, '23'],\n",
       " [18.433333333333334, '09'],\n",
       " [25.0, '01'],\n",
       " [18.916666666666668, '10'],\n",
       " [37.83870967741935, '00']]"
      ]
     },
     "execution_count": 23,
     "metadata": {},
     "output_type": "execute_result"
    }
   ],
   "source": [
    "swap_avg_points_hour=[]\n",
    "for hr in avg_points_by_hour:\n",
    "    swap_avg_points_hour.append([hr[1],hr[0]])\n",
    "swap_avg_points_hour"
   ]
  },
  {
   "cell_type": "code",
   "execution_count": 24,
   "metadata": {
    "scrolled": true
   },
   "outputs": [
    {
     "name": "stdout",
     "output_type": "stream",
     "text": [
      "23:00: 42.39 average points per post\n",
      "12:00: 41.69 average points per post\n",
      "22:00: 40.35 average points per post\n",
      "00:00: 37.84 average points per post\n",
      "18:00: 36.31 average points per post\n"
     ]
    }
   ],
   "source": [
    "# sor columns for easier interpretation\n",
    "sorted_swap_points=sorted(swap_avg_points_hour,reverse=True)\n",
    "# Print first five rows\n",
    "for each in sorted_swap_points[:5]:\n",
    "    print(\"{hr}:00: {avg:.2f} average points per post\".format(hr=each[1], avg=each[0]))"
   ]
  },
  {
   "cell_type": "markdown",
   "metadata": {},
   "source": [
    "What we can see is that between 11PM and 12AM Eastern Time Show Posts received the most amount of points. Overall, Show posts that are created after 6PM seem to receive most points and upvotes. "
   ]
  },
  {
   "cell_type": "markdown",
   "metadata": {},
   "source": [
    "# Conclusion\n",
    "\n",
    "Based on our analysis, to maximize the amount of comments a post received, we'd recommend to create a post between 3PM and 4PM (eastern time)\n",
    "However, since this data set does not include posts that did not receive comments, it is more accurate to say that of the posts that did receive comments, ask posts received more comments during 15:00 and 16:00. Furthermore, Show posts received more points comparing to Ask posts. \n",
    "\n",
    "In conclusion, this guide serves a great tool for determining at what time a created post will most like be successful. \n",
    "\n"
   ]
  },
  {
   "cell_type": "code",
   "execution_count": null,
   "metadata": {},
   "outputs": [],
   "source": []
  },
  {
   "cell_type": "code",
   "execution_count": null,
   "metadata": {},
   "outputs": [],
   "source": []
  }
 ],
 "metadata": {
  "kernelspec": {
   "display_name": "Python 3",
   "language": "python",
   "name": "python3"
  },
  "language_info": {
   "codemirror_mode": {
    "name": "ipython",
    "version": 3
   },
   "file_extension": ".py",
   "mimetype": "text/x-python",
   "name": "python",
   "nbconvert_exporter": "python",
   "pygments_lexer": "ipython3",
   "version": "3.8.3"
  }
 },
 "nbformat": 4,
 "nbformat_minor": 4
}
